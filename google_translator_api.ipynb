{
 "cells": [
  {
   "cell_type": "markdown",
   "metadata": {},
   "source": [
    "First we need google translator to use this project\n",
    "run the following code to install googletrans"
   ]
  },
  {
   "cell_type": "code",
   "execution_count": 1,
   "metadata": {},
   "outputs": [
    {
     "name": "stdout",
     "output_type": "stream",
     "text": [
      "Requirement already satisfied: googletrans==3.1.0a0 in c:\\users\\none_void\\anaconda3\\envs\\deep_learning_with_python\\lib\\site-packages (3.1.0a0)\n",
      "Requirement already satisfied: httpx==0.13.3 in c:\\users\\none_void\\anaconda3\\envs\\deep_learning_with_python\\lib\\site-packages (from googletrans==3.1.0a0) (0.13.3)\n",
      "Requirement already satisfied: hstspreload in c:\\users\\none_void\\anaconda3\\envs\\deep_learning_with_python\\lib\\site-packages (from httpx==0.13.3->googletrans==3.1.0a0) (2021.12.1)\n",
      "Requirement already satisfied: httpcore==0.9.* in c:\\users\\none_void\\anaconda3\\envs\\deep_learning_with_python\\lib\\site-packages (from httpx==0.13.3->googletrans==3.1.0a0) (0.9.1)\n",
      "Requirement already satisfied: certifi in c:\\users\\none_void\\anaconda3\\envs\\deep_learning_with_python\\lib\\site-packages (from httpx==0.13.3->googletrans==3.1.0a0) (2021.10.8)\n",
      "Requirement already satisfied: sniffio in c:\\users\\none_void\\anaconda3\\envs\\deep_learning_with_python\\lib\\site-packages (from httpx==0.13.3->googletrans==3.1.0a0) (1.2.0)\n",
      "Requirement already satisfied: rfc3986<2,>=1.3 in c:\\users\\none_void\\anaconda3\\envs\\deep_learning_with_python\\lib\\site-packages (from httpx==0.13.3->googletrans==3.1.0a0) (1.5.0)\n",
      "Requirement already satisfied: idna==2.* in c:\\users\\none_void\\anaconda3\\envs\\deep_learning_with_python\\lib\\site-packages (from httpx==0.13.3->googletrans==3.1.0a0) (2.10)\n",
      "Requirement already satisfied: chardet==3.* in c:\\users\\none_void\\anaconda3\\envs\\deep_learning_with_python\\lib\\site-packages (from httpx==0.13.3->googletrans==3.1.0a0) (3.0.4)\n",
      "Requirement already satisfied: h2==3.* in c:\\users\\none_void\\anaconda3\\envs\\deep_learning_with_python\\lib\\site-packages (from httpcore==0.9.*->httpx==0.13.3->googletrans==3.1.0a0) (3.2.0)\n",
      "Requirement already satisfied: h11<0.10,>=0.8 in c:\\users\\none_void\\anaconda3\\envs\\deep_learning_with_python\\lib\\site-packages (from httpcore==0.9.*->httpx==0.13.3->googletrans==3.1.0a0) (0.9.0)\n",
      "Requirement already satisfied: hyperframe<6,>=5.2.0 in c:\\users\\none_void\\anaconda3\\envs\\deep_learning_with_python\\lib\\site-packages (from h2==3.*->httpcore==0.9.*->httpx==0.13.3->googletrans==3.1.0a0) (5.2.0)\n",
      "Requirement already satisfied: hpack<4,>=3.0 in c:\\users\\none_void\\anaconda3\\envs\\deep_learning_with_python\\lib\\site-packages (from h2==3.*->httpcore==0.9.*->httpx==0.13.3->googletrans==3.1.0a0) (3.0.0)\n"
     ]
    }
   ],
   "source": [
    "!pip install googletrans==3.1.0a0"
   ]
  },
  {
   "cell_type": "code",
   "execution_count": 2,
   "metadata": {},
   "outputs": [],
   "source": [
    "from googletrans import Translator\n",
    "import googletrans\n",
    "translator = Translator()"
   ]
  },
  {
   "cell_type": "code",
   "execution_count": 3,
   "metadata": {},
   "outputs": [
    {
     "data": {
      "text/plain": [
       "{'af': 'afrikaans',\n",
       " 'sq': 'albanian',\n",
       " 'am': 'amharic',\n",
       " 'ar': 'arabic',\n",
       " 'hy': 'armenian',\n",
       " 'az': 'azerbaijani',\n",
       " 'eu': 'basque',\n",
       " 'be': 'belarusian',\n",
       " 'bn': 'bengali',\n",
       " 'bs': 'bosnian',\n",
       " 'bg': 'bulgarian',\n",
       " 'ca': 'catalan',\n",
       " 'ceb': 'cebuano',\n",
       " 'ny': 'chichewa',\n",
       " 'zh-cn': 'chinese (simplified)',\n",
       " 'zh-tw': 'chinese (traditional)',\n",
       " 'co': 'corsican',\n",
       " 'hr': 'croatian',\n",
       " 'cs': 'czech',\n",
       " 'da': 'danish',\n",
       " 'nl': 'dutch',\n",
       " 'en': 'english',\n",
       " 'eo': 'esperanto',\n",
       " 'et': 'estonian',\n",
       " 'tl': 'filipino',\n",
       " 'fi': 'finnish',\n",
       " 'fr': 'french',\n",
       " 'fy': 'frisian',\n",
       " 'gl': 'galician',\n",
       " 'ka': 'georgian',\n",
       " 'de': 'german',\n",
       " 'el': 'greek',\n",
       " 'gu': 'gujarati',\n",
       " 'ht': 'haitian creole',\n",
       " 'ha': 'hausa',\n",
       " 'haw': 'hawaiian',\n",
       " 'iw': 'hebrew',\n",
       " 'he': 'hebrew',\n",
       " 'hi': 'hindi',\n",
       " 'hmn': 'hmong',\n",
       " 'hu': 'hungarian',\n",
       " 'is': 'icelandic',\n",
       " 'ig': 'igbo',\n",
       " 'id': 'indonesian',\n",
       " 'ga': 'irish',\n",
       " 'it': 'italian',\n",
       " 'ja': 'japanese',\n",
       " 'jw': 'javanese',\n",
       " 'kn': 'kannada',\n",
       " 'kk': 'kazakh',\n",
       " 'km': 'khmer',\n",
       " 'ko': 'korean',\n",
       " 'ku': 'kurdish (kurmanji)',\n",
       " 'ky': 'kyrgyz',\n",
       " 'lo': 'lao',\n",
       " 'la': 'latin',\n",
       " 'lv': 'latvian',\n",
       " 'lt': 'lithuanian',\n",
       " 'lb': 'luxembourgish',\n",
       " 'mk': 'macedonian',\n",
       " 'mg': 'malagasy',\n",
       " 'ms': 'malay',\n",
       " 'ml': 'malayalam',\n",
       " 'mt': 'maltese',\n",
       " 'mi': 'maori',\n",
       " 'mr': 'marathi',\n",
       " 'mn': 'mongolian',\n",
       " 'my': 'myanmar (burmese)',\n",
       " 'ne': 'nepali',\n",
       " 'no': 'norwegian',\n",
       " 'or': 'odia',\n",
       " 'ps': 'pashto',\n",
       " 'fa': 'persian',\n",
       " 'pl': 'polish',\n",
       " 'pt': 'portuguese',\n",
       " 'pa': 'punjabi',\n",
       " 'ro': 'romanian',\n",
       " 'ru': 'russian',\n",
       " 'sm': 'samoan',\n",
       " 'gd': 'scots gaelic',\n",
       " 'sr': 'serbian',\n",
       " 'st': 'sesotho',\n",
       " 'sn': 'shona',\n",
       " 'sd': 'sindhi',\n",
       " 'si': 'sinhala',\n",
       " 'sk': 'slovak',\n",
       " 'sl': 'slovenian',\n",
       " 'so': 'somali',\n",
       " 'es': 'spanish',\n",
       " 'su': 'sundanese',\n",
       " 'sw': 'swahili',\n",
       " 'sv': 'swedish',\n",
       " 'tg': 'tajik',\n",
       " 'ta': 'tamil',\n",
       " 'te': 'telugu',\n",
       " 'th': 'thai',\n",
       " 'tr': 'turkish',\n",
       " 'uk': 'ukrainian',\n",
       " 'ur': 'urdu',\n",
       " 'ug': 'uyghur',\n",
       " 'uz': 'uzbek',\n",
       " 'vi': 'vietnamese',\n",
       " 'cy': 'welsh',\n",
       " 'xh': 'xhosa',\n",
       " 'yi': 'yiddish',\n",
       " 'yo': 'yoruba',\n",
       " 'zu': 'zulu'}"
      ]
     },
     "execution_count": 3,
     "metadata": {},
     "output_type": "execute_result"
    }
   ],
   "source": [
    "googletrans.LANGUAGES"
   ]
  },
  {
   "cell_type": "code",
   "execution_count": 4,
   "metadata": {},
   "outputs": [],
   "source": [
    "text1 = \"Hallo Welt\"\n",
    "text2 = \"Hello World\"\n"
   ]
  },
  {
   "cell_type": "code",
   "execution_count": 5,
   "metadata": {},
   "outputs": [
    {
     "data": {
      "text/plain": [
       "'de'"
      ]
     },
     "execution_count": 5,
     "metadata": {},
     "output_type": "execute_result"
    }
   ],
   "source": [
    "translator.detect(text1).lang"
   ]
  },
  {
   "cell_type": "code",
   "execution_count": 6,
   "metadata": {},
   "outputs": [
    {
     "data": {
      "text/plain": [
       "'en'"
      ]
     },
     "execution_count": 6,
     "metadata": {},
     "output_type": "execute_result"
    }
   ],
   "source": [
    "translator.detect(text2).lang"
   ]
  },
  {
   "cell_type": "code",
   "execution_count": 7,
   "metadata": {},
   "outputs": [
    {
     "data": {
      "text/plain": [
       "'Hello World'"
      ]
     },
     "execution_count": 7,
     "metadata": {},
     "output_type": "execute_result"
    }
   ],
   "source": [
    "translator.translate(text1,src=\"de\",dest=\"en\").text"
   ]
  },
  {
   "cell_type": "code",
   "execution_count": 1,
   "metadata": {},
   "outputs": [],
   "source": [
    "import tensorflow as tf\n",
    "model = tf.keras.models.load_model(\"saved_model/model\")"
   ]
  },
  {
   "cell_type": "code",
   "execution_count": null,
   "metadata": {},
   "outputs": [],
   "source": []
  }
 ],
 "metadata": {
  "interpreter": {
   "hash": "8c857caae20f38d1b296763322fac57da2e4d73991c1f9c93d349f69327511a5"
  },
  "kernelspec": {
   "display_name": "Python 3.9.7 ('deep_learning_with_python')",
   "language": "python",
   "name": "python3"
  },
  "language_info": {
   "codemirror_mode": {
    "name": "ipython",
    "version": 3
   },
   "file_extension": ".py",
   "mimetype": "text/x-python",
   "name": "python",
   "nbconvert_exporter": "python",
   "pygments_lexer": "ipython3",
   "version": "3.9.10"
  },
  "orig_nbformat": 4
 },
 "nbformat": 4,
 "nbformat_minor": 2
}
