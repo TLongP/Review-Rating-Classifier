{
 "cells": [
  {
   "cell_type": "code",
   "execution_count": 19,
   "metadata": {},
   "outputs": [],
   "source": [
    "import tensorflow as tf\n",
    "import numpy as np\n",
    "import os\n",
    "from tensorflow.keras import layers\n",
    "from tensorflow.keras.models import Sequential\n",
    "from tensorflow.keras.optimizers import Adam\n",
    "import keras_tuner as kt\n",
    "from tensorflow.keras import callbacks\n",
    "from tensorflow.keras.layers import TextVectorization\n",
    "from datetime import datetime\n",
    "import matplotlib.pyplot as plt"
   ]
  },
  {
   "cell_type": "markdown",
   "metadata": {},
   "source": [
    "### Data Preprocessing ###"
   ]
  },
  {
   "cell_type": "code",
   "execution_count": 2,
   "metadata": {},
   "outputs": [],
   "source": [
    "def preprocess_for_tfrecord(tfrecord):\n",
    "    \"\"\" preprocess for reading\n",
    "    \"\"\"\n",
    "    feature_descriptions = {\n",
    "        \"review\": tf.io.FixedLenFeature([], tf.string, default_value=\"\"),\n",
    "        \"sentiment\": tf.io.FixedLenFeature([], tf.int64, default_value=0)\n",
    "    }\n",
    "    example = tf.io.parse_single_example(tfrecord, feature_descriptions)\n",
    "    return example[\"review\"], example[\"sentiment\"]\n",
    "\n",
    "def load_tfrecord(filepaths, n_read_threads=5, shuffle_buffer_size=10000,\n",
    "                n_parse_threads=5, batch_size=32, cache=True):\n",
    "    \"\"\" first convert the filepath into tfdataset, then shuffle the files\n",
    "        then reading the data from files\n",
    "        by using prefetch in -> make faster (prepare the next data even the current data not finishes)\"\"\"\n",
    "    dataset = tf.data.TFRecordDataset(filepaths,\n",
    "                                      num_parallel_reads=n_read_threads)\n",
    "    if cache:\n",
    "        dataset = dataset.cache()\n",
    "    if shuffle_buffer_size:\n",
    "        dataset = dataset.shuffle(shuffle_buffer_size)\n",
    "    dataset = dataset.map(preprocess_for_tfrecord, num_parallel_calls=n_parse_threads)\n",
    "    return dataset.batch(batch_size).prefetch(1)      \n",
    "\n",
    "def list_files_in_path(pathfile):\n",
    "    files = []\n",
    "    for file in os.listdir(pathfile):\n",
    "        files.append(os.path.join(pathfile,file))\n",
    "    return files\n"
   ]
  },
  {
   "cell_type": "code",
   "execution_count": 4,
   "metadata": {},
   "outputs": [],
   "source": [
    "train_set = load_tfrecord(list_files_in_path(\"datasets\\\\tfrecords\\\\train\"))\n",
    "valid_set = load_tfrecord(list_files_in_path(\"datasets\\\\tfrecords\\\\validation\"))"
   ]
  },
  {
   "cell_type": "markdown",
   "metadata": {},
   "source": [
    "### Text Vectorization ###"
   ]
  },
  {
   "cell_type": "code",
   "execution_count": 5,
   "metadata": {},
   "outputs": [],
   "source": [
    "\"\"\"you can change the following parameters\n",
    "    One can also use the Keras Tuner to tune the embedding dim\"\"\"\n",
    "num_of_words = 10000\n",
    "max_sentence_len = 200\n",
    "embedding_dim = 16"
   ]
  },
  {
   "cell_type": "code",
   "execution_count": 6,
   "metadata": {},
   "outputs": [],
   "source": [
    "text_vectorize_dict = {\n",
    "    \"max_tokens\": num_of_words,\n",
    "    \"output_mode\": \"int\",\n",
    "    \"output_sequence_length\":max_sentence_len\n",
    "}"
   ]
  },
  {
   "cell_type": "code",
   "execution_count": 7,
   "metadata": {},
   "outputs": [],
   "source": [
    "vectorize_layer = TextVectorization(**text_vectorize_dict)\n",
    "vectorize_layer._name=\"Text_Vectorization_Layer\""
   ]
  },
  {
   "cell_type": "code",
   "execution_count": 8,
   "metadata": {},
   "outputs": [],
   "source": [
    "vectorize_layer.adapt(train_set.map(lambda x,y: x))"
   ]
  },
  {
   "cell_type": "markdown",
   "metadata": {},
   "source": [
    "### USE KERAS TUNER ###\n",
    "We find the optimal parameters in our set"
   ]
  },
  {
   "cell_type": "code",
   "execution_count": null,
   "metadata": {},
   "outputs": [],
   "source": [
    "def model_tuner(hp):\n",
    "    model = Sequential()\n",
    "    model.add(vectorize_layer)\n",
    "    model.add(layers.Embedding(input_dim=num_of_words,output_dim=embedding_dim,\n",
    "                                input_length=max_sentence_len,name=\"Embedding_layer\"))\n",
    "    conv1_filters = hp.Choice(\"conv1_filters\",values=[16,32,64,128])\n",
    "    conv1_kernels = hp.Choice(\"conv1_kernels\",values=[3,5,7,9,11])\n",
    "    model.add(layers.Conv1D(filters=conv1_filters,kernel_size=conv1_kernels,\n",
    "                            activation='selu',kernel_initializer='lecun_normal'))\n",
    "    model.add(layers.GlobalAveragePooling1D())\n",
    "    dense_1_units = hp.Int('dense_1_units', min_value=6, max_value=10, step=1)\n",
    "    model.add(layers.Dense(units=dense_1_units,activation='selu',kernel_initializer='lecun_normal'))\n",
    "    model.add(layers.Dense(1, activation='sigmoid'))\n",
    "    learning_rate = hp.Choice('learning_rate', values=[1e-2, 1e-3, 1e-4])\n",
    "    model.compile(loss=\"BinaryCrossentropy\",metrics=['accuracy'],optimizer=Adam(learning_rate=learning_rate))\n",
    "    return model"
   ]
  },
  {
   "cell_type": "code",
   "execution_count": null,
   "metadata": {},
   "outputs": [],
   "source": [
    "tuner = kt.Hyperband(model_tuner,objective='val_accuracy',\n",
    "                     max_epochs=20,\n",
    "                     factor=3,\n",
    "                     directory='my_dir',\n",
    "                     project_name='movie_reviews')\n",
    "early_stopping = callbacks.EarlyStopping(monitor=\"val_loss\",patience=5)"
   ]
  },
  {
   "cell_type": "code",
   "execution_count": null,
   "metadata": {},
   "outputs": [],
   "source": [
    "tuner.search(train_set,epochs=50,validation_data=valid_set,callbacks=[early_stopping])"
   ]
  },
  {
   "cell_type": "code",
   "execution_count": null,
   "metadata": {},
   "outputs": [],
   "source": [
    "best_hps=tuner.get_best_hyperparameters(num_trials=1)[0]\n",
    "print(f\"\"\"\n",
    "the hyperparameter search is complete. The optimal numbers of parameters are\n",
    "conv1_filters: {best_hps.get(\"conv1_filters\")}\n",
    "conv1_kernels: {best_hps.get(\"conv1_kernels\")}\n",
    "dense_1_units: {best_hps.get(\"dense_1_units\")}\n",
    "learning_rate: {best_hps.get(\"learning_rate\")}\n",
    "\"\"\")"
   ]
  },
  {
   "cell_type": "markdown",
   "metadata": {},
   "source": [
    "the best parameter for the search are:\n",
    "conv1_filters: 64\n",
    "conv1_kernels: 3\n",
    "dense_1_units: 9\n",
    "learning_rate: 0.01"
   ]
  },
  {
   "cell_type": "code",
   "execution_count": null,
   "metadata": {},
   "outputs": [],
   "source": [
    "model = tuner.hypermodel.build(best_hps)"
   ]
  },
  {
   "cell_type": "markdown",
   "metadata": {},
   "source": [
    "### Train the model ###"
   ]
  },
  {
   "cell_type": "code",
   "execution_count": 15,
   "metadata": {},
   "outputs": [],
   "source": [
    "\n",
    "tf_board_dir = \"logs/train_tf_board/\"+datetime.now().strftime(\"%Y%m%d--%H%M%S\")\n",
    "check_point_dir = \"logs/check_point\"\n",
    "\n",
    "tensorboard_callback = callbacks.TensorBoard(log_dir=tf_board_dir)\n",
    "early_stopping = callbacks.EarlyStopping(monitor=\"val_loss\",patience=10)\n",
    "check_point = callbacks.ModelCheckpoint(filepath=check_point_dir,\n",
    "                                        monitor=\"val_loss\",\n",
    "                                        save_best_only=True,\n",
    "                                        save_weights_only=True)\n"
   ]
  },
  {
   "cell_type": "code",
   "execution_count": 13,
   "metadata": {},
   "outputs": [],
   "source": [
    "def scheduler(epoch, lr):\n",
    "    return lr*0.5**(epoch//10)\n",
    "learning_rate_scheduler =callbacks.LearningRateScheduler(scheduler)"
   ]
  },
  {
   "cell_type": "code",
   "execution_count": 10,
   "metadata": {},
   "outputs": [],
   "source": [
    "\"\"\"If you use the model which we find by using keras\n",
    "     tuner then you do not need to do run this cell\"\"\"\n",
    "tf.keras.backend.clear_session()\n",
    "model = tf.keras.models.Sequential([\n",
    "    vectorize_layer,\n",
    "    layers.Embedding(input_dim=num_of_words,output_dim=16,input_length=max_sentence_len),\n",
    "    tf.keras.layers.Conv1D(64, 3, activation='relu'),\n",
    "    tf.keras.layers.GlobalAveragePooling1D(),\n",
    "    tf.keras.layers.Dense(9, activation='relu'),\n",
    "    tf.keras.layers.Dense(1, activation='sigmoid')\n",
    "])"
   ]
  },
  {
   "cell_type": "code",
   "execution_count": 11,
   "metadata": {},
   "outputs": [],
   "source": [
    "model.compile(loss=\"BinaryCrossentropy\",metrics=['accuracy'],optimizer=Adam(0.01))"
   ]
  },
  {
   "cell_type": "code",
   "execution_count": 17,
   "metadata": {},
   "outputs": [
    {
     "name": "stdout",
     "output_type": "stream",
     "text": [
      "Epoch 1/100\n",
      "1250/1250 [==============================] - 19s 13ms/step - loss: 0.3585 - accuracy: 0.8429 - val_loss: 0.2894 - val_accuracy: 0.8778 - lr: 0.0100\n",
      "Epoch 2/100\n",
      "1250/1250 [==============================] - 12s 10ms/step - loss: 0.2311 - accuracy: 0.9083 - val_loss: 0.2967 - val_accuracy: 0.8742 - lr: 0.0100\n",
      "Epoch 3/100\n",
      "1250/1250 [==============================] - 13s 10ms/step - loss: 0.1835 - accuracy: 0.9294 - val_loss: 0.3262 - val_accuracy: 0.8710 - lr: 0.0100\n",
      "Epoch 4/100\n",
      "1250/1250 [==============================] - 14s 11ms/step - loss: 0.1392 - accuracy: 0.9492 - val_loss: 0.4241 - val_accuracy: 0.8610 - lr: 0.0100\n",
      "Epoch 5/100\n",
      "1250/1250 [==============================] - 16s 13ms/step - loss: 0.1022 - accuracy: 0.9646 - val_loss: 0.4610 - val_accuracy: 0.8590 - lr: 0.0100\n",
      "Epoch 6/100\n",
      "1250/1250 [==============================] - 16s 13ms/step - loss: 0.0758 - accuracy: 0.9735 - val_loss: 0.5268 - val_accuracy: 0.8448 - lr: 0.0100\n",
      "Epoch 7/100\n",
      "1250/1250 [==============================] - 16s 13ms/step - loss: 0.0572 - accuracy: 0.9794 - val_loss: 0.7485 - val_accuracy: 0.8460 - lr: 0.0100\n",
      "Epoch 8/100\n",
      "1250/1250 [==============================] - 16s 13ms/step - loss: 0.0432 - accuracy: 0.9841 - val_loss: 0.7882 - val_accuracy: 0.8508 - lr: 0.0100\n",
      "Epoch 9/100\n",
      "1250/1250 [==============================] - 16s 13ms/step - loss: 0.0396 - accuracy: 0.9851 - val_loss: 0.9636 - val_accuracy: 0.8566 - lr: 0.0100\n",
      "Epoch 10/100\n",
      "1250/1250 [==============================] - 16s 13ms/step - loss: 0.0309 - accuracy: 0.9882 - val_loss: 1.0427 - val_accuracy: 0.8542 - lr: 0.0100\n",
      "Epoch 11/100\n",
      "1250/1250 [==============================] - 16s 13ms/step - loss: 0.0147 - accuracy: 0.9939 - val_loss: 1.2026 - val_accuracy: 0.8532 - lr: 0.0050\n"
     ]
    }
   ],
   "source": [
    "history = model.fit(train_set,\n",
    "            epochs=100,\n",
    "            batch_size=32,\n",
    "            validation_data=valid_set,\n",
    "            callbacks=[early_stopping,\n",
    "                    check_point,\n",
    "                    learning_rate_scheduler,\n",
    "                    tensorboard_callback]\n",
    "            )"
   ]
  },
  {
   "cell_type": "code",
   "execution_count": 18,
   "metadata": {},
   "outputs": [
    {
     "data": {
      "text/plain": [
       "<tensorflow.python.training.tracking.util.CheckpointLoadStatus at 0x2061a2f8820>"
      ]
     },
     "execution_count": 18,
     "metadata": {},
     "output_type": "execute_result"
    }
   ],
   "source": [
    "model.load_weights(check_point_dir)"
   ]
  },
  {
   "cell_type": "markdown",
   "metadata": {},
   "source": [
    "### Plot the Training Data ###"
   ]
  },
  {
   "cell_type": "code",
   "execution_count": 24,
   "metadata": {},
   "outputs": [
    {
     "data": {
      "text/plain": [
       "[<matplotlib.lines.Line2D at 0x20647627b20>]"
      ]
     },
     "execution_count": 24,
     "metadata": {},
     "output_type": "execute_result"
    },
    {
     "data": {
      "image/png": "[encoded data removed]",
      "text/plain": [
       "<Figure size 432x288 with 1 Axes>"
      ]
     },
     "metadata": {
      "needs_background": "light"
     },
     "output_type": "display_data"
    }
   ],
   "source": [
    "train_acc = history.history[\"accuracy\"]\n",
    "val_acc = history.history[\"val_accuracy\"]\n",
    "plt.plot(np.arange(len(train_acc)),train_acc,\"r\",label=\"training accuracy\")\n",
    "plt.plot(np.arange(len(val_acc)),val_acc,\"b\",label=\"validation accuracy\")\n"
   ]
  },
  {
   "cell_type": "markdown",
   "metadata": {},
   "source": [
    "**Anlayse**\n",
    "\n",
    "It looks like our model has overfitten the training data.\n",
    "What can we do? So first we can collect more data. \n",
    "But we can also add a dropout layer.\n",
    "\n",
    "If this wont work out we cann try GRU or LSTM layer, since the training for LSTM take longer I will not use it here.\n",
    "\n",
    "But now let look at the test set"
   ]
  },
  {
   "cell_type": "code",
   "execution_count": 26,
   "metadata": {},
   "outputs": [],
   "source": [
    "test_set = load_tfrecord(list_files_in_path(\"datasets\\\\tfrecords\\\\test\"))"
   ]
  },
  {
   "cell_type": "code",
   "execution_count": 71,
   "metadata": {},
   "outputs": [],
   "source": [
    "def return_accuracy(test_set):\n",
    "    accuracy = tf.keras.metrics.Accuracy()\n",
    "    for x,y in test_set.map(lambda x,y: (x,y)):\n",
    "        accuracy.update_state(y,model.predict(x)>0.5)\n",
    "    return accuracy.result()\n"
   ]
  },
  {
   "cell_type": "code",
   "execution_count": 72,
   "metadata": {},
   "outputs": [
    {
     "data": {
      "text/plain": [
       "<tf.Tensor: shape=(), dtype=float32, numpy=0.8752>"
      ]
     },
     "execution_count": 72,
     "metadata": {},
     "output_type": "execute_result"
    }
   ],
   "source": [
    "return_accuracy(test_set=test_set)"
   ]
  },
  {
   "cell_type": "markdown",
   "metadata": {},
   "source": [
    "So we get 87.5% accuracy on the test set!"
   ]
  },
  {
   "cell_type": "code",
   "execution_count": 73,
   "metadata": {},
   "outputs": [
    {
     "name": "stderr",
     "output_type": "stream",
     "text": [
      "WARNING:absl:Function `_wrapped_model` contains input name(s) Text_Vectorization_Layer_input with unsupported characters which will be renamed to text_vectorization_layer_input in the SavedModel.\n"
     ]
    },
    {
     "name": "stdout",
     "output_type": "stream",
     "text": [
      "INFO:tensorflow:Assets written to: saved_mdoel/model\\assets\n"
     ]
    },
    {
     "name": "stderr",
     "output_type": "stream",
     "text": [
      "INFO:tensorflow:Assets written to: saved_mdoel/model\\assets\n"
     ]
    }
   ],
   "source": [
    "model.save(\"saved_model/model\")"
   ]
  },
  {
   "cell_type": "code",
   "execution_count": null,
   "metadata": {},
   "outputs": [],
   "source": []
  }
 ],
 "metadata": {
  "interpreter": {
   "hash": "8c857caae20f38d1b296763322fac57da2e4d73991c1f9c93d349f69327511a5"
  },
  "kernelspec": {
   "display_name": "Python 3.9.7 ('deep_learning_with_python')",
   "language": "python",
   "name": "python3"
  },
  "language_info": {
   "codemirror_mode": {
    "name": "ipython",
    "version": 3
   },
   "file_extension": ".py",
   "mimetype": "text/x-python",
   "name": "python",
   "nbconvert_exporter": "python",
   "pygments_lexer": "ipython3",
   "version": "3.9.10"
  },
  "orig_nbformat": 4
 },
 "nbformat": 4,
 "nbformat_minor": 2
}
